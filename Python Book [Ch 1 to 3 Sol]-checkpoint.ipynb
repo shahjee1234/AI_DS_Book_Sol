{
 "cells": [
  {
   "cell_type": "markdown",
   "metadata": {},
   "source": [
    "# Chapter # 01"
   ]
  },
  {
   "cell_type": "code",
   "execution_count": 1,
   "metadata": {},
   "outputs": [
    {
     "name": "stdout",
     "output_type": "stream",
     "text": [
      "Hello Python interpreter!\n"
     ]
    }
   ],
   "source": [
    "# Excersice\n",
    "\n",
    "print(\"Hello Python interpreter!\")"
   ]
  },
  {
   "cell_type": "code",
   "execution_count": 4,
   "metadata": {},
   "outputs": [
    {
     "name": "stdout",
     "output_type": "stream",
     "text": [
      "Hello world!\n",
      "Hello Python world!\n"
     ]
    }
   ],
   "source": [
    "print(\"Hello world!\")\n",
    "print(\"Hello Python world!\")"
   ]
  },
  {
   "cell_type": "markdown",
   "metadata": {},
   "source": [
    "# CHAPTER # 02 [Variable and Simple Data Types]"
   ]
  },
  {
   "cell_type": "code",
   "execution_count": 5,
   "metadata": {},
   "outputs": [
    {
     "name": "stdout",
     "output_type": "stream",
     "text": [
      "Hello Python world!\n"
     ]
    }
   ],
   "source": [
    "message = \"Hello Python world!\"\n",
    "print(message)"
   ]
  },
  {
   "cell_type": "code",
   "execution_count": 6,
   "metadata": {},
   "outputs": [
    {
     "name": "stdout",
     "output_type": "stream",
     "text": [
      "Hello Python Crash Course world!\n"
     ]
    }
   ],
   "source": [
    "message = \"Hello Python Crash Course world!\"\n",
    "print(message)\n"
   ]
  },
  {
   "cell_type": "code",
   "execution_count": 7,
   "metadata": {},
   "outputs": [
    {
     "name": "stdout",
     "output_type": "stream",
     "text": [
      "this is python\n",
      "this is python 3.0\n"
     ]
    }
   ],
   "source": [
    "# 2-1. Simple Message: Store a message in a variable, and then print that message\n",
    "\n",
    "ver=\"this is python\"\n",
    "print(ver)\n",
    "ver=\"this is python 3.0\"\n",
    "print(ver)"
   ]
  },
  {
   "cell_type": "code",
   "execution_count": 10,
   "metadata": {},
   "outputs": [
    {
     "name": "stdout",
     "output_type": "stream",
     "text": [
      "MUBASHIR AHMED\n",
      "mubashir ahmed\n",
      "Mubashir Ahmed\n",
      "True\n",
      "True\n",
      "['mubashir ahmed']\n"
     ]
    }
   ],
   "source": [
    "# 2-2. Simple Messages: Store a message in a variable, and print that message.Then change the value of your variable to a \n",
    "#       new message, and print the new message.\n",
    "\n",
    "your_name=\"mubashir ahmed\"\n",
    "print(your_name.upper())\n",
    "print(your_name.lower())\n",
    "print(your_name.title())\n",
    "print(your_name.endswith('d'))\n",
    "print(your_name.startswith('m'))\n",
    "print(your_name.split(','))"
   ]
  },
  {
   "cell_type": "code",
   "execution_count": 11,
   "metadata": {},
   "outputs": [
    {
     "name": "stdout",
     "output_type": "stream",
     "text": [
      "Ada Lovelace\n"
     ]
    }
   ],
   "source": [
    "# Changing Case in a String with Methods\n",
    "name = \"ada lovelace\"\n",
    "print(name.title())"
   ]
  },
  {
   "cell_type": "code",
   "execution_count": 12,
   "metadata": {},
   "outputs": [
    {
     "name": "stdout",
     "output_type": "stream",
     "text": [
      "ADA LOVELACE\n",
      "ada lovelace\n"
     ]
    }
   ],
   "source": [
    "name = \"Ada Lovelace\"\n",
    "print(name.upper())\n",
    "print(name.lower())"
   ]
  },
  {
   "cell_type": "code",
   "execution_count": 16,
   "metadata": {},
   "outputs": [
    {
     "name": "stdout",
     "output_type": "stream",
     "text": [
      "ada lovelace\n",
      "Hello, Ada Lovelace!\n",
      "Hello, Ada Lovelace!\n"
     ]
    }
   ],
   "source": [
    "# Combining or Concatenating Strings\n",
    "first_name = \"ada\"\n",
    "last_name = \"lovelace\"\n",
    "full_name = first_name + \" \" + last_name\n",
    "print(full_name)\n",
    "print(\"Hello, \" + full_name.title() + \"!\")\n",
    "message = \"Hello, \" + full_name.title() + \"!\"\n",
    "print(message)"
   ]
  },
  {
   "cell_type": "code",
   "execution_count": 17,
   "metadata": {},
   "outputs": [
    {
     "name": "stdout",
     "output_type": "stream",
     "text": [
      "Python\n",
      "\tPython\n"
     ]
    }
   ],
   "source": [
    "# Adding Whitespace to Strings with Tabs or Newlines\n",
    "\n",
    "print(\"Python\")\n",
    "print(\"\\tPython\")\n"
   ]
  },
  {
   "cell_type": "code",
   "execution_count": 18,
   "metadata": {},
   "outputs": [
    {
     "name": "stdout",
     "output_type": "stream",
     "text": [
      "Languages:\n",
      "Python\n",
      "C\n",
      "JavaScript\n"
     ]
    }
   ],
   "source": [
    "print(\"Languages:\\nPython\\nC\\nJavaScript\")"
   ]
  },
  {
   "cell_type": "code",
   "execution_count": 21,
   "metadata": {},
   "outputs": [
    {
     "data": {
      "text/plain": [
       "'python '"
      ]
     },
     "execution_count": 21,
     "metadata": {},
     "output_type": "execute_result"
    }
   ],
   "source": [
    "# Stripping Whitespace\n",
    "favorite_language = 'python '\n",
    "favorite_language \n",
    "\n",
    "\n"
   ]
  },
  {
   "cell_type": "code",
   "execution_count": 22,
   "metadata": {},
   "outputs": [
    {
     "data": {
      "text/plain": [
       "'python'"
      ]
     },
     "execution_count": 22,
     "metadata": {},
     "output_type": "execute_result"
    }
   ],
   "source": [
    "favorite_language.rstrip()"
   ]
  },
  {
   "cell_type": "code",
   "execution_count": 23,
   "metadata": {},
   "outputs": [
    {
     "data": {
      "text/plain": [
       "'python'"
      ]
     },
     "execution_count": 23,
     "metadata": {},
     "output_type": "execute_result"
    }
   ],
   "source": [
    "favorite_language = 'python '\n",
    "favorite_language = favorite_language.rstrip()\n",
    "favorite_language"
   ]
  },
  {
   "cell_type": "code",
   "execution_count": 25,
   "metadata": {},
   "outputs": [
    {
     "data": {
      "text/plain": [
       "' python'"
      ]
     },
     "execution_count": 25,
     "metadata": {},
     "output_type": "execute_result"
    }
   ],
   "source": [
    "favorite_language = ' python '\n",
    "favorite_language.rstrip()"
   ]
  },
  {
   "cell_type": "code",
   "execution_count": 26,
   "metadata": {},
   "outputs": [
    {
     "data": {
      "text/plain": [
       "'python '"
      ]
     },
     "execution_count": 26,
     "metadata": {},
     "output_type": "execute_result"
    }
   ],
   "source": [
    "favorite_language.lstrip()"
   ]
  },
  {
   "cell_type": "code",
   "execution_count": 27,
   "metadata": {},
   "outputs": [
    {
     "data": {
      "text/plain": [
       "'python'"
      ]
     },
     "execution_count": 27,
     "metadata": {},
     "output_type": "execute_result"
    }
   ],
   "source": [
    "favorite_language.strip()"
   ]
  },
  {
   "cell_type": "code",
   "execution_count": 28,
   "metadata": {},
   "outputs": [
    {
     "name": "stdout",
     "output_type": "stream",
     "text": [
      "One of Python's strengths is its diverse community.\n"
     ]
    }
   ],
   "source": [
    "# Avoiding Syntax Errors with Strings\n",
    "message = \"One of Python's strengths is its diverse community.\"\n",
    "print(message)"
   ]
  },
  {
   "cell_type": "code",
   "execution_count": 30,
   "metadata": {},
   "outputs": [
    {
     "name": "stdout",
     "output_type": "stream",
     "text": [
      "Hello Mubashir Ahmed,would you like to learn some Python today?\n"
     ]
    }
   ],
   "source": [
    "# 2-3. Personal Message: Store a person’s name in a variable, and print a message to that person. \n",
    "#      Your message should be simple, such as, “Hello Eric, would you like to learn some Python today?”\n",
    "\n",
    "your_name=\"Mubashir Ahmed\"\n",
    "print(\"Hello\"+\" \"+your_name+ \",\"+\"would you like to learn some Python today?\")"
   ]
  },
  {
   "cell_type": "code",
   "execution_count": 32,
   "metadata": {},
   "outputs": [
    {
     "name": "stdout",
     "output_type": "stream",
     "text": [
      "My Name is : MUBASHIR AHMED\n",
      "My Name is : mubashir ahmed\n",
      "My Name is : Mubashir Ahmed\n"
     ]
    }
   ],
   "source": [
    "# 2-4. Name Cases: Store a person’s name in a variable, and then print that person’s name in lowercase, uppercase, and titlecase\n",
    "\n",
    "print(\"My Name is : \"+your_name.upper())\n",
    "print(\"My Name is : \"+your_name.lower())\n",
    "print(\"My Name is : \"+your_name.title())"
   ]
  },
  {
   "cell_type": "code",
   "execution_count": 41,
   "metadata": {},
   "outputs": [
    {
     "name": "stdout",
     "output_type": "stream",
     "text": [
      "Albert Einstein once said,\"A person who never made a mistake never tried anything new.\"\n"
     ]
    }
   ],
   "source": [
    "# 2-5. Famous Quote: Find a quote from a famous person you admire. Print the quote and the name of its author.\n",
    "#      Your output should look something like the following,including the quotation marks:Albert Einstein once said,\n",
    "#      “A person who never made a mistake never tried anything new.”\n",
    "\n",
    "name = \"Albert Einstein \"\n",
    "print(name+''+'once said,\"A person who never made a mistake never tried anything new.\"')"
   ]
  },
  {
   "cell_type": "code",
   "execution_count": 42,
   "metadata": {},
   "outputs": [
    {
     "name": "stdout",
     "output_type": "stream",
     "text": [
      "Albert Einstein once said,\"A person who never made a mistake never tried anything new.\"\n"
     ]
    }
   ],
   "source": [
    "# 2-6. Famous Quote 2: Repeat Exercise 2-5, but this time store the famous person’s name in a variable called famous_person. \n",
    "#      Then compose your message and store it in a new variable called message. Print your message.\n",
    "\n",
    "famous_person = \"Albert Einstein\"\n",
    "message = 'once said,\"A person who never made a mistake never tried anything new.\"'\n",
    "print(famous_person+\" \"+message)"
   ]
  },
  {
   "cell_type": "code",
   "execution_count": 43,
   "metadata": {},
   "outputs": [
    {
     "name": "stdout",
     "output_type": "stream",
     "text": [
      "\tSyed Mubashir\n",
      "\n",
      "Syed Mubashir\n",
      "\n",
      "\tSyed Mubashir\n",
      "Syed Mubashir\n"
     ]
    }
   ],
   "source": [
    "# 2-7. Stripping Names: Store a person’s name, and include some whitespace characters at the beginning and end of the name.\n",
    "#      Make sure you use each character combination, \"\\t\" and \"\\n\", at least once. Print the name once, so the whitespace \n",
    "#      around the name is displayed.Then print the name using each of the three stripping functions, lstrip(),rstrip(),\n",
    "#      and strip().\n",
    "\n",
    "name = \"\\tSyed Mubashir\\n\"\n",
    "\n",
    "print(name)\n",
    "\n",
    "print(name.lstrip())\n",
    "\n",
    "print(name.rstrip())\n",
    "\n",
    "print(name.strip())"
   ]
  },
  {
   "cell_type": "code",
   "execution_count": 45,
   "metadata": {},
   "outputs": [
    {
     "data": {
      "text/plain": [
       "1.5"
      ]
     },
     "execution_count": 45,
     "metadata": {},
     "output_type": "execute_result"
    }
   ],
   "source": [
    "# Numbers\n",
    "\n",
    "3 / 2"
   ]
  },
  {
   "cell_type": "code",
   "execution_count": 46,
   "metadata": {},
   "outputs": [
    {
     "data": {
      "text/plain": [
       "20"
      ]
     },
     "execution_count": 46,
     "metadata": {},
     "output_type": "execute_result"
    }
   ],
   "source": [
    "(2 + 3) * 4"
   ]
  },
  {
   "cell_type": "code",
   "execution_count": 47,
   "metadata": {},
   "outputs": [
    {
     "data": {
      "text/plain": [
       "0.30000000000000004"
      ]
     },
     "execution_count": 47,
     "metadata": {},
     "output_type": "execute_result"
    }
   ],
   "source": [
    "# float\n",
    "0.2 + 0.1 "
   ]
  },
  {
   "cell_type": "code",
   "execution_count": 49,
   "metadata": {},
   "outputs": [
    {
     "name": "stdout",
     "output_type": "stream",
     "text": [
      "Happy 23rd Birthday!\n"
     ]
    }
   ],
   "source": [
    "# Avoiding Type Errors with the str() Function\n",
    "age = 23\n",
    "message = \"Happy \" + str(age) + \"rd Birthday!\"\n",
    "print(message)"
   ]
  },
  {
   "cell_type": "code",
   "execution_count": 54,
   "metadata": {},
   "outputs": [
    {
     "name": "stdout",
     "output_type": "stream",
     "text": [
      "8\n",
      "8\n",
      "8\n",
      "8.0\n"
     ]
    }
   ],
   "source": [
    "# 2-8. Number Eight: Write addition, subtraction, multiplication, and division operations that each result in the number 8. \n",
    "#      Be sure to enclose your operations in print statements to see the results. You should create four lines that look\n",
    "#      like this: print(5 + 3)\n",
    "\n",
    "print(6+2)   # Addition\n",
    "print(10-2)  # Subtraction\n",
    "print(4*2)   # Multiplication \n",
    "print(16/2)  # Division"
   ]
  },
  {
   "cell_type": "code",
   "execution_count": 58,
   "metadata": {},
   "outputs": [
    {
     "name": "stdout",
     "output_type": "stream",
     "text": [
      "My Favourite Number is 16.\n"
     ]
    }
   ],
   "source": [
    "# 2-9. Favorite Number: Store your favorite number in a variable. Then, using that variable, create a message \n",
    "#      that reveals your favorite number. Print that message.\n",
    "\n",
    "fav_num = 16\n",
    "print(\"My Favourite Number is\"+' '+str(fav_num)+'.')"
   ]
  },
  {
   "cell_type": "code",
   "execution_count": 1,
   "metadata": {},
   "outputs": [
    {
     "name": "stdout",
     "output_type": "stream",
     "text": [
      "The Zen of Python, by Tim Peters\n",
      "\n",
      "Beautiful is better than ugly.\n",
      "Explicit is better than implicit.\n",
      "Simple is better than complex.\n",
      "Complex is better than complicated.\n",
      "Flat is better than nested.\n",
      "Sparse is better than dense.\n",
      "Readability counts.\n",
      "Special cases aren't special enough to break the rules.\n",
      "Although practicality beats purity.\n",
      "Errors should never pass silently.\n",
      "Unless explicitly silenced.\n",
      "In the face of ambiguity, refuse the temptation to guess.\n",
      "There should be one-- and preferably only one --obvious way to do it.\n",
      "Although that way may not be obvious at first unless you're Dutch.\n",
      "Now is better than never.\n",
      "Although never is often better than *right* now.\n",
      "If the implementation is hard to explain, it's a bad idea.\n",
      "If the implementation is easy to explain, it may be a good idea.\n",
      "Namespaces are one honking great idea -- let's do more of those!\n"
     ]
    }
   ],
   "source": [
    "# The Zen of Python\n",
    "\n",
    "import this"
   ]
  },
  {
   "cell_type": "markdown",
   "metadata": {},
   "source": [
    "# CHAPTER # 03 [Introducing Lists]"
   ]
  },
  {
   "cell_type": "code",
   "execution_count": 4,
   "metadata": {},
   "outputs": [
    {
     "name": "stdout",
     "output_type": "stream",
     "text": [
      "['trek', 'cannondale', 'redline', 'specialized']\n",
      "trek\n",
      "Trek\n"
     ]
    }
   ],
   "source": [
    "# Excercise\n",
    "\n",
    "bicycles = ['trek', 'cannondale', 'redline', 'specialized']\n",
    "print(bicycles)\n",
    "print(bicycles[0])\n",
    "print(bicycles[0].title())"
   ]
  },
  {
   "cell_type": "code",
   "execution_count": 6,
   "metadata": {},
   "outputs": [
    {
     "name": "stdout",
     "output_type": "stream",
     "text": [
      "cannondale\n",
      "specialized\n",
      "specialized\n"
     ]
    }
   ],
   "source": [
    "# Index Positions Start at 0, Not 1\n",
    "\n",
    "print(bicycles[1])\n",
    "print(bicycles[3])\n",
    "print(bicycles[-1])"
   ]
  },
  {
   "cell_type": "code",
   "execution_count": 7,
   "metadata": {},
   "outputs": [
    {
     "name": "stdout",
     "output_type": "stream",
     "text": [
      "My first bicycle was a Trek.\n"
     ]
    }
   ],
   "source": [
    "# Using Individual Values from a List\n",
    "\n",
    "message = \"My first bicycle was a \" + bicycles[0].title() + \".\"\n",
    "print(message)"
   ]
  },
  {
   "cell_type": "code",
   "execution_count": 11,
   "metadata": {},
   "outputs": [
    {
     "name": "stdout",
     "output_type": "stream",
     "text": [
      "Shahroz\n",
      "Hamza\n",
      "Sharjeel\n",
      "Talha\n"
     ]
    }
   ],
   "source": [
    "# Try It Yourself\n",
    "# 3-1. Names: Store the names of a few of your friends in a list called names. Print\n",
    "# each person’s name by accessing each element in the list, one at a time\n",
    "\n",
    "name=[\"shahroz\",\"hamza\",\"sharjeel\",\"talha\"]\n",
    "print(name[0].title())\n",
    "print(name[1].title())\n",
    "print(name[2].title())\n",
    "print(name[3].title())"
   ]
  },
  {
   "cell_type": "code",
   "execution_count": 14,
   "metadata": {},
   "outputs": [
    {
     "name": "stdout",
     "output_type": "stream",
     "text": [
      "Shahroz my great friend!\n",
      "Hamza my great friend!\n",
      "Sharjeel my great friend!\n",
      "Talha my great friend!\n"
     ]
    }
   ],
   "source": [
    "# 3-2. Greetings: Start with the list you used in Exercise 3-1, but instead of just printing each person’s name, \n",
    "#      print a message to them. The text of each message should be the same, but each message should be personalized \n",
    "#      with the person’s name\n",
    "\n",
    "print(name[0].title()+\" \"+\"my great friend!\")\n",
    "print(name[1].title()+\" \"+\"my great friend!\")\n",
    "print(name[2].title()+\" \"+\"my great friend!\")\n",
    "print(name[3].title()+\" \"+\"my great friend!\")"
   ]
  },
  {
   "cell_type": "code",
   "execution_count": 16,
   "metadata": {},
   "outputs": [
    {
     "name": "stdout",
     "output_type": "stream",
     "text": [
      "I would like to own a  Audi car\n",
      "I would like to own a  BMW car\n",
      "I would like to own a  Mercedies car\n",
      "I would like to own a  Ferrari car\n"
     ]
    }
   ],
   "source": [
    "# 3-3. Your Own List: Think of your favorite mode of transportation, such as a motorcycle or a car,\n",
    "#      and make a list that stores several examples. Use your list to print a series of statements\n",
    "#      about these items, such as “I would like to own a Honda motorcycle.”\n",
    "\n",
    "fav_car=[\"Audi\",\"BMW\",\"Mercedies\",\"Ferrari\"]\n",
    "print(\"I would like to own a \"+\" \"+fav_car[0]+\" \"+\"car\" )\n",
    "print(\"I would like to own a \"+\" \"+fav_car[1]+\" \"+\"car\" )\n",
    "print(\"I would like to own a \"+\" \"+fav_car[2]+\" \"+\"car\" )\n",
    "print(\"I would like to own a \"+\" \"+fav_car[3]+\" \"+\"car\" )"
   ]
  },
  {
   "cell_type": "code",
   "execution_count": 17,
   "metadata": {},
   "outputs": [
    {
     "name": "stdout",
     "output_type": "stream",
     "text": [
      "['honda', 'yamaha', 'suzuki']\n"
     ]
    }
   ],
   "source": [
    "# Changing, Adding, and Removing Elements\n",
    "\n",
    "motorcycles = ['honda', 'yamaha', 'suzuki']\n",
    "print(motorcycles)"
   ]
  },
  {
   "cell_type": "code",
   "execution_count": 18,
   "metadata": {},
   "outputs": [
    {
     "name": "stdout",
     "output_type": "stream",
     "text": [
      "['ducati', 'yamaha', 'suzuki']\n"
     ]
    }
   ],
   "source": [
    "motorcycles[0] = 'ducati'\n",
    "print(motorcycles)"
   ]
  },
  {
   "cell_type": "code",
   "execution_count": 19,
   "metadata": {},
   "outputs": [
    {
     "name": "stdout",
     "output_type": "stream",
     "text": [
      "['ducati', 'yamaha', 'suzuki', 'ducati']\n"
     ]
    }
   ],
   "source": [
    "# Appending Elements to the End of a List\n",
    "\n",
    "motorcycles.append('ducati')\n",
    "print(motorcycles)"
   ]
  },
  {
   "cell_type": "code",
   "execution_count": 20,
   "metadata": {},
   "outputs": [
    {
     "name": "stdout",
     "output_type": "stream",
     "text": [
      "['honda', 'yamaha', 'suzuki']\n",
      "['yamaha', 'suzuki']\n"
     ]
    }
   ],
   "source": [
    "# Removing Elements from a List\n",
    "motorcycles = ['honda', 'yamaha', 'suzuki']\n",
    "print(motorcycles)\n",
    "del motorcycles[0]\n",
    "print(motorcycles)"
   ]
  },
  {
   "cell_type": "code",
   "execution_count": 21,
   "metadata": {},
   "outputs": [
    {
     "name": "stdout",
     "output_type": "stream",
     "text": [
      "['honda', 'yamaha', 'suzuki']\n",
      "['honda', 'yamaha']\n",
      "suzuki\n"
     ]
    }
   ],
   "source": [
    "# Removing an Item Using the pop() Method\n",
    "motorcycles = ['honda', 'yamaha', 'suzuki']\n",
    "print(motorcycles)\n",
    "popped_motorcycle = motorcycles.pop()\n",
    "print(motorcycles)\n",
    "print(popped_motorcycle)"
   ]
  },
  {
   "cell_type": "code",
   "execution_count": 22,
   "metadata": {},
   "outputs": [
    {
     "name": "stdout",
     "output_type": "stream",
     "text": [
      "The last motorcycle I owned was a Suzuki.\n"
     ]
    }
   ],
   "source": [
    "motorcycles = ['honda', 'yamaha', 'suzuki']\n",
    "last_owned = motorcycles.pop()\n",
    "print(\"The last motorcycle I owned was a \" + last_owned.title() + \".\")"
   ]
  },
  {
   "cell_type": "code",
   "execution_count": 23,
   "metadata": {},
   "outputs": [
    {
     "name": "stdout",
     "output_type": "stream",
     "text": [
      "The first motorcycle I owned was a Honda.\n"
     ]
    }
   ],
   "source": [
    "# Popping Items from any Position in a List\n",
    "\n",
    "first_owned = motorcycles.pop(0)\n",
    "print('The first motorcycle I owned was a ' + first_owned.title() + '.')"
   ]
  },
  {
   "cell_type": "code",
   "execution_count": 24,
   "metadata": {},
   "outputs": [
    {
     "name": "stdout",
     "output_type": "stream",
     "text": [
      "['honda', 'yamaha', 'suzuki', 'ducati']\n",
      "['honda', 'yamaha', 'suzuki']\n"
     ]
    }
   ],
   "source": [
    "# Removing an Item by Value\n",
    "motorcycles = ['honda', 'yamaha', 'suzuki', 'ducati']\n",
    "print(motorcycles)\n",
    "\n",
    "motorcycles.remove('ducati')\n",
    "print(motorcycles)"
   ]
  },
  {
   "cell_type": "code",
   "execution_count": 5,
   "metadata": {},
   "outputs": [
    {
     "name": "stdout",
     "output_type": "stream",
     "text": [
      "Shahroz you are invited.\n",
      "Hamza you are invited.\n",
      "Sharjeel you are invited.\n",
      "Talha you are invited.\n"
     ]
    }
   ],
   "source": [
    "# Try It Yourself\n",
    "\n",
    "# 3-4. Guest List: If you could invite anyone, living or deceased, to dinner, who\n",
    "# would you invite? Make a list that includes at least three people you’d like to\n",
    "# invite to dinner. Then use your list to print a message to each person, inviting\n",
    "# them to dinner.\n",
    "\n",
    "invited_dinner=[\"shahroz\",\"hamza\",\"sharjeel\",\"talha\"]\n",
    "print(invited_dinner[0].title()+\" \"+\"you are invited.\")\n",
    "print(invited_dinner[1].title()+\" \"+\"you are invited.\")\n",
    "print(invited_dinner[2].title()+\" \"+\"you are invited.\")\n",
    "print(invited_dinner[3].title()+\" \"+\"you are invited.\")\n",
    "\n"
   ]
  },
  {
   "cell_type": "code",
   "execution_count": 8,
   "metadata": {},
   "outputs": [
    {
     "name": "stdout",
     "output_type": "stream",
     "text": [
      "Sameer you are invided\n",
      "Ali you are invided\n",
      "Sad you are invided\n",
      "Ali i am not avialabe sorry\n"
     ]
    }
   ],
   "source": [
    "# 3-5. Changing Guest List: You just heard that one of your guests can’t make the\n",
    "# dinner, so you need to send out a new set of invitations. You’ll have to think of\n",
    "# someone else to invite.\n",
    "# •\t Start with your program from Exercise 3-4. Add a print statement at the\n",
    "# end of your program stating the name of the guest who can’t make it.\n",
    "# •\t Modify your list, replacing the name of the guest who can’t make it with\n",
    "# the name of the new person you are inviting.\n",
    "# •\t Print a second set of invitation messages, one for each person who is still\n",
    "# in your list.\n",
    "\n",
    "\n",
    "invited_dinner[1]=\"ali\"\n",
    "print(invited_dinner[0].title()+\" \"+\"you are invided\")\n",
    "print(invited_dinner[1].title()+\" \"+\"you are invided\")\n",
    "print(invited_dinner[2].title()+\" \"+\"you are invided\")\n",
    "print(invited_dinner[3].title()+\" \"+\"i am not avialabe sorry\")"
   ]
  },
  {
   "cell_type": "code",
   "execution_count": 14,
   "metadata": {},
   "outputs": [
    {
     "name": "stdout",
     "output_type": "stream",
     "text": [
      "Sameer you are invited\n",
      "Sameer you are invited\n",
      "Sad you are invited\n",
      "Sameer you are invited\n",
      "Sad you are invited\n",
      "Sameer you are invited\n"
     ]
    }
   ],
   "source": [
    "# 3-6. More Guests: You just found a bigger dinner table, so now more space is\n",
    "# available. Think of three more guests to invite to dinner.\n",
    "# •\t Start with your program from Exercise 3-4 or Exercise 3-5. Add a print\n",
    "# statement to the end of your program informing people that you found a\n",
    "# bigger dinner table.\n",
    "# •\t Use insert() to add one new guest to the beginning of your list.\n",
    "# •\t Use insert() to add one new guest to the middle of your list.\n",
    "# •\t Use append() to add one new guest to the end of your list.\n",
    "# •\t Print a new set of invitation messages, one for each person in your list.\n",
    "\n",
    "invited_dinner.insert(0,\"sameer\")\n",
    "invited_dinner.insert(2,\"sad\")\n",
    "invited_dinner.append(\"kabeer\")\n",
    "print(invited_dinner[0].title()+\" \"+\"you are invited\")\n",
    "print(invited_dinner[1].title()+\" \"+\"you are invited\")\n",
    "print(invited_dinner[2].title()+\" \"+\"you are invited\")\n",
    "print(invited_dinner[3].title()+\" \"+\"you are invited\")\n",
    "print(invited_dinner[4].title()+\" \"+\"you are invited\")\n",
    "print(invited_dinner[5].title()+\" \"+\"you are invited\")\n",
    "\n"
   ]
  },
  {
   "cell_type": "code",
   "execution_count": 21,
   "metadata": {},
   "outputs": [
    {
     "name": "stdout",
     "output_type": "stream",
     "text": [
      "You can invite only 2 person your current list is :\n",
      "\n",
      "Shahroz you are invited.\n",
      "Hamza you are invited.\n",
      "Sharjeel you are invited.\n"
     ]
    }
   ],
   "source": [
    "# 3-7. Shrinking Guest List: You just found out that your new dinner table won’t\n",
    "# arrive in time for the dinner, and you have space for only two guests.\n",
    "# •\t Start with your program from Exercise 3-6. Add a new line that prints a\n",
    "# message saying that you can invite only two people for dinner.\n",
    "# •\t Use pop() to remove guests from your list one at a time until only two\n",
    "# names remain in your list. Each time you pop a name from your list, print\n",
    "# a message to that person letting them know you’re sorry you can’t invite\n",
    "# them to dinner.\n",
    "# •\t Print a message to each of the two people still on your list, letting them\n",
    "# know they’re still invited.\n",
    "# •\t Use del to remove the last two names from your list, so you have an empty\n",
    "# list. Print your list to make sure you actually have an empty list at the end\n",
    "# of your program.\n",
    "print(\"You can invite only 2 person your current list is :\\n\")\n",
    "invited_people=[\"shahroz\",\"hamza\",\"sharjeel\"]\n",
    "print(invited_people[0].title()+\" \"+\"you are invited.\")\n",
    "print(invited_people[1].title()+\" \"+\"you are invited.\")\n",
    "print(invited_people[2].title()+\" \"+\"you are invited.\")\n",
    "\n",
    "\n"
   ]
  },
  {
   "cell_type": "code",
   "execution_count": 22,
   "metadata": {},
   "outputs": [
    {
     "name": "stdout",
     "output_type": "stream",
     "text": [
      "Sharjeel sorry you can’t invite them to dinner\n"
     ]
    }
   ],
   "source": [
    "print(invited_people.pop().title()+\" \"+\"sorry you can’t invite them to dinner\")\n"
   ]
  },
  {
   "cell_type": "code",
   "execution_count": 19,
   "metadata": {},
   "outputs": [
    {
     "name": "stdout",
     "output_type": "stream",
     "text": [
      "Shahroz you are still invited.\n",
      "Hamza you are still invited.\n"
     ]
    }
   ],
   "source": [
    "print(invited_people[0].title()+\" \"+\"you are still invited.\")\n",
    "print(invited_people[1].title()+\" \"+\"you are still invited.\")\n"
   ]
  },
  {
   "cell_type": "code",
   "execution_count": 20,
   "metadata": {},
   "outputs": [
    {
     "name": "stdout",
     "output_type": "stream",
     "text": [
      "[]\n"
     ]
    }
   ],
   "source": [
    "del invited_people[1]\n",
    "del invited_people[0]\n",
    "print(invited_people)"
   ]
  },
  {
   "cell_type": "code",
   "execution_count": 23,
   "metadata": {},
   "outputs": [
    {
     "name": "stdout",
     "output_type": "stream",
     "text": [
      "['audi', 'bmw', 'subaru', 'toyota']\n"
     ]
    }
   ],
   "source": [
    "# Sorting a List Permanently with the sort() Method\n",
    "\n",
    "cars = ['bmw', 'audi', 'toyota', 'subaru']\n",
    "cars.sort()\n",
    "print(cars)"
   ]
  },
  {
   "cell_type": "code",
   "execution_count": 24,
   "metadata": {},
   "outputs": [
    {
     "name": "stdout",
     "output_type": "stream",
     "text": [
      "['toyota', 'subaru', 'bmw', 'audi']\n"
     ]
    }
   ],
   "source": [
    "cars.sort(reverse=True)\n",
    "print(cars)"
   ]
  },
  {
   "cell_type": "code",
   "execution_count": 54,
   "metadata": {},
   "outputs": [
    {
     "name": "stdout",
     "output_type": "stream",
     "text": [
      "Here is the original list:\n",
      "['Pakistan', 'China', 'Switzerland', 'USA', 'Germany']\n",
      "\n",
      "Here is the sorted list:\n",
      "['China', 'Germany', 'Pakistan', 'Switzerland', 'USA']\n",
      "\n",
      "Here is the original list again:\n",
      "['Pakistan', 'China', 'Switzerland', 'USA', 'Germany']\n",
      "\n",
      "Here is the sorted() to print your list in alphabetical order without modifying the actual list:\n",
      "['USA', 'Switzerland', 'Pakistan', 'Germany', 'China']\n"
     ]
    }
   ],
   "source": [
    "# 3-8. Seeing the World: Think of at least five places in the world you’d like to\n",
    "# visit.\n",
    "# •\t Store the locations in a list. Make sure the list is not in alphabetical order.\n",
    "# •\t Print your list in its original order. Don’t worry about printing the list neatly,\n",
    "# just print it as a raw Python list.\n",
    "# •\t Use sorted() to print your list in alphabetical order without modifying the\n",
    "# actual list.\n",
    "# •\t Show that your list is still in its original order by printing it.\n",
    "# •\t Use sorted() to print your list in reverse alphabetical order without changing the order of the original list.\n",
    "# •\t Show that your list is still in its original order by printing it again.\n",
    "# •\t Use reverse() to change the order of your list. Print the list to show that its\n",
    "# order has changed.\n",
    "# •\t Use reverse() to change the order of your list again. Print the list to show\n",
    "# it’s back to its original order.\n",
    "# •\t Use sort() to change your list so it’s stored in alphabetical order. Print the\n",
    "# list to show that its order has been changed.\n",
    "# •\t Use sort() to change your list so it’s stored in reverse alphabetical order.\n",
    "# Print the list to show that its order has changed.\n",
    "\n",
    "\n",
    "fav_places=[\"Pakistan\",\"China\",\"Switzerland\",\"USA\",\"Germany\"]\n",
    "\n",
    "print(\"Here is the original list:\")\n",
    "print(fav_places)\n",
    "\n",
    "print(\"\\nHere is the sorted list:\")\n",
    "print(sorted(fav_places))\n",
    "\n",
    "print(\"\\nHere is the original list again:\")\n",
    "print(fav_places)\n",
    "\n",
    "\n",
    "print(\"\\nHere is the sorted() to print your list in alphabetical order without modifying the actual list:\")\n",
    "fav_places.sort(reverse=True)\n",
    "print(fav_places)\n",
    "\n"
   ]
  },
  {
   "cell_type": "code",
   "execution_count": 55,
   "metadata": {},
   "outputs": [
    {
     "name": "stdout",
     "output_type": "stream",
     "text": [
      "['USA', 'Switzerland', 'Pakistan', 'Germany', 'China']\n"
     ]
    }
   ],
   "source": [
    "print(fav_places)"
   ]
  },
  {
   "cell_type": "code",
   "execution_count": 56,
   "metadata": {},
   "outputs": [
    {
     "name": "stdout",
     "output_type": "stream",
     "text": [
      "['China', 'Germany', 'Pakistan', 'Switzerland', 'USA']\n"
     ]
    }
   ],
   "source": [
    "fav_places.reverse()\n",
    "print(fav_places)\n"
   ]
  },
  {
   "cell_type": "code",
   "execution_count": 57,
   "metadata": {},
   "outputs": [
    {
     "name": "stdout",
     "output_type": "stream",
     "text": [
      "['USA', 'Switzerland', 'Pakistan', 'Germany', 'China']\n"
     ]
    }
   ],
   "source": [
    "fav_places.sort(reverse=True)\n",
    "print(fav_places)\n"
   ]
  },
  {
   "cell_type": "code",
   "execution_count": 58,
   "metadata": {},
   "outputs": [
    {
     "name": "stdout",
     "output_type": "stream",
     "text": [
      "['China', 'Germany', 'Pakistan', 'Switzerland', 'USA']\n"
     ]
    }
   ],
   "source": [
    "print(sorted(fav_places))"
   ]
  },
  {
   "cell_type": "code",
   "execution_count": 59,
   "metadata": {},
   "outputs": [
    {
     "name": "stdout",
     "output_type": "stream",
     "text": [
      "['USA', 'Switzerland', 'Pakistan', 'Germany', 'China']\n"
     ]
    }
   ],
   "source": [
    "fav_places.sort(reverse=True)\n",
    "print(fav_places)"
   ]
  },
  {
   "cell_type": "code",
   "execution_count": 60,
   "metadata": {},
   "outputs": [
    {
     "name": "stdout",
     "output_type": "stream",
     "text": [
      "['USA', 'Switzerland', 'Pakistan', 'Germany', 'China']\n"
     ]
    }
   ],
   "source": [
    "print(fav_places)"
   ]
  },
  {
   "cell_type": "code",
   "execution_count": 62,
   "metadata": {},
   "outputs": [
    {
     "name": "stdout",
     "output_type": "stream",
     "text": [
      "The number of people you are inviting to dinner is 16\n"
     ]
    }
   ],
   "source": [
    "# 3-9. Dinner Guests: Working with one of the programs from Exercises 3-4\n",
    "# through 3-7 (page 46), use len() to print a message indicating the number\n",
    "# of people you are inviting to dinner.\n",
    "\n",
    "print(\"The number of people you are inviting to dinner is \"+ str(len(invited_dinner)))"
   ]
  },
  {
   "cell_type": "code",
   "execution_count": 63,
   "metadata": {},
   "outputs": [
    {
     "name": "stdout",
     "output_type": "stream",
     "text": [
      "Raavi\n",
      "Pakistan\n",
      "Urdu\n",
      "Karachi\n",
      "Biryani\n"
     ]
    }
   ],
   "source": [
    "# 3-10. Every Function: Think of something you could store in a list. For example,\n",
    "# you could make a list of mountains, rivers, countries, cities, languages, or anything else you’d like. \n",
    "# Write a program that creates a list containing these items and then uses each function introduced in this \n",
    "# chapter at least once.\n",
    "\n",
    "my_fvt=[\"Raavi\",\"Pakistan\",\"Urdu\",\"Karachi\",\"Biryani\"]\n",
    "for choise in my_fvt:\n",
    "    print(choise)\n"
   ]
  },
  {
   "cell_type": "code",
   "execution_count": null,
   "metadata": {},
   "outputs": [],
   "source": []
  }
 ],
 "metadata": {
  "kernelspec": {
   "display_name": "Python 3",
   "language": "python",
   "name": "python3"
  },
  "language_info": {
   "codemirror_mode": {
    "name": "ipython",
    "version": 3
   },
   "file_extension": ".py",
   "mimetype": "text/x-python",
   "name": "python",
   "nbconvert_exporter": "python",
   "pygments_lexer": "ipython3",
   "version": "3.7.4"
  }
 },
 "nbformat": 4,
 "nbformat_minor": 2
}
